{
 "cells": [
  {
   "cell_type": "code",
   "execution_count": 1,
   "id": "cbfe1286-be5c-40f1-a267-34653724e7c2",
   "metadata": {},
   "outputs": [
    {
     "name": "stdout",
     "output_type": "stream",
     "text": [
      "{1: {'name': 'Alice', 'age': 25, 'city': 'New York'}, 2: {'name': 'Bob', 'age': 30, 'city': 'San Francisco'}}\n"
     ]
    }
   ],
   "source": [
    "#1) Question: SQL-to-JSON Transformation\n",
    "'''You are given a list of rows from an SQL database represented as a list of dictionaries, \n",
    "where each dictionary corresponds to a row. Each row contains user_id, name, age, and city.\n",
    "Write a Python function transform_data(rows: List[Dict[str, Union[str, int]]]) -> Dict[int, Dict[str, Union[str, int]]] \n",
    "that transforms the data into a dictionary format where the keys are the user_id values,\n",
    "and the corresponding value is a dictionary of the remaining fields (name, age, city).'''\n",
    "\n",
    "'''\n",
    "Example:\n",
    "rows = [\n",
    "    {\"user_id\": 1, \"name\": \"Alice\", \"age\": 25, \"city\": \"New York\"},\n",
    "    {\"user_id\": 2, \"name\": \"Bob\", \"age\": 30, \"city\": \"San Francisco\"}\n",
    "]\n",
    "\n",
    "Output:\n",
    "{\n",
    "    1: {\"name\": \"Alice\", \"age\": 25, \"city\": \"New York\"},\n",
    "    2: {\"name\": \"Bob\", \"age\": 30, \"city\": \"San Francisco\"}\n",
    "}'''\n",
    "\n",
    "from typing import List, Dict, Union\n",
    "\n",
    "def transform_data(rows: List[Dict[str, Union[str, int]]]) -> Dict[int, Dict[str, Union[str, int]]]:\n",
    "    return {\n",
    "        row['user_id']: {key: row[key] for key in ['name', 'age', 'city']}\n",
    "        for row in rows\n",
    "    }\n",
    "rows = [\n",
    "    {\"user_id\": 1, \"name\": \"Alice\", \"age\": 25, \"city\": \"New York\"},\n",
    "    {\"user_id\": 2, \"name\": \"Bob\", \"age\": 30, \"city\": \"San Francisco\"}\n",
    "]\n",
    "\n",
    "output = transform_data(rows)\n",
    "print(output)"
   ]
  },
  {
   "cell_type": "code",
   "execution_count": 2,
   "id": "23e32de1-89a1-40f8-b7d9-ecfa9c5fa255",
   "metadata": {},
   "outputs": [
    {
     "name": "stdout",
     "output_type": "stream",
     "text": [
      "[{'id': '1', 'name': 'Alice', 'email': 'alice@example.com'}, {'id': '2', 'name': 'Bob', 'email': 'bob@example.com'}]\n"
     ]
    }
   ],
   "source": [
    "#3)\n",
    "''' Question: Data Deduplication\n",
    "You are given a list of dictionaries representing records, \n",
    "where each dictionary contains id, name, and email. \n",
    "Write a Python function deduplicate(records: List[Dict[str, str]]) -> List[Dict[str, str]]\n",
    "that removes duplicate records based on the email field and returns a list of unique records.\n",
    "Keep the first occurrence of each email.\n",
    "\n",
    "Example:\n",
    "records = [\n",
    "    {\"id\": \"1\", \"name\": \"Alice\", \"email\": \"alice@example.com\"},\n",
    "    {\"id\": \"2\", \"name\": \"Bob\", \"email\": \"bob@example.com\"},\n",
    "    {\"id\": \"3\", \"name\": \"Alice\", \"email\": \"alice@example.com\"}\n",
    "]\n",
    "\n",
    "Output:\n",
    "[\n",
    "    {\"id\": \"1\", \"name\": \"Alice\", \"email\": \"alice@example.com\"},\n",
    "    {\"id\": \"2\", \"name\": \"Bob\", \"email\": \"bob@example.com\"}\n",
    "]'''\n",
    "from typing import List, Dict\n",
    "\n",
    "def deduplicate(records: List[Dict[str, str]]) -> List[Dict[str, str]]:\n",
    "    unique_records = {} \n",
    "    for record in records:\n",
    "        email = record[\"email\"]\n",
    "        if email not in unique_records:\n",
    "            unique_records[email] = record\n",
    "    return list(unique_records.values())\n",
    "records = [\n",
    "    {\"id\": \"1\", \"name\": \"Alice\", \"email\": \"alice@example.com\"},\n",
    "    {\"id\": \"2\", \"name\": \"Bob\", \"email\": \"bob@example.com\"},\n",
    "    {\"id\": \"3\", \"name\": \"Alice\", \"email\": \"alice@example.com\"}\n",
    "]\n",
    "\n",
    "output = deduplicate(records)\n",
    "print(output)"
   ]
  },
  {
   "cell_type": "code",
   "execution_count": 3,
   "id": "2958c6de-968c-4aff-bb5e-6b42408c9cbf",
   "metadata": {},
   "outputs": [
    {
     "name": "stdout",
     "output_type": "stream",
     "text": [
      "[60, 90, 120]\n"
     ]
    }
   ],
   "source": [
    "#4) . Question: Sliding Window Aggregation\n",
    "'''You are given a list of integers representing transaction amounts and a window size k.\n",
    "Write a Python function sliding_window_sum(transactions: List[int], k: int) -> List[int] \n",
    "that returns a list containing the sum of every sliding window of size k.\n",
    "\n",
    "Example:\n",
    "transactions = [10, 20, 30, 40, 50]\n",
    "k = 3\n",
    "Output:\n",
    "[60, 90, 120]\n",
    "Explanation:\n",
    "Sum of the first 3 transactions: 10 + 20 + 30 = 60\n",
    "Sum of the next 3 transactions: 20 + 30 + 40 = 90\n",
    "Sum of the last 3 transactions: 30 + 40 + 50 = 120 '''\n",
    "from typing import List\n",
    "\n",
    "def sliding_window_sum(transactions: List[int], k: int) -> List[int]:\n",
    "    if k <= 0 or k > len(transactions):\n",
    "        return []\n",
    "    cumulative_sum = [0] * (len(transactions) + 1)\n",
    "    for i in range(1, len(transactions) + 1):\n",
    "        cumulative_sum[i] = cumulative_sum[i - 1] + transactions[i - 1]\n",
    "\n",
    "    result = []\n",
    "    for i in range(k, len(transactions) + 1):\n",
    "        window_sum = cumulative_sum[i] - cumulative_sum[i - k]\n",
    "        result.append(window_sum)\n",
    "\n",
    "    return result\n",
    "transactions = [10, 20, 30, 40, 50]\n",
    "k = 3\n",
    "output = sliding_window_sum(transactions, k)\n",
    "print(output)  "
   ]
  },
  {
   "cell_type": "code",
   "execution_count": 6,
   "id": "da062488-3385-4a5b-afb3-fbd18ba834d8",
   "metadata": {},
   "outputs": [
    {
     "name": "stdout",
     "output_type": "stream",
     "text": [
      "{'user.id': 1, 'user.details.name': 'Alice', 'user.details.address.city': 'New York', 'user.details.address.zipcode': 10001}\n"
     ]
    }
   ],
   "source": [
    "#5) Question: Flatten Nested JSON\n",
    "# You are given a nested JSON-like dictionary structure. Write a Python function flatten_json(nested_dict: Dict[str, Any]) -> Dict[str, Any] \n",
    "# that flattens the dictionary, where nested keys are represented as a concatenation of keys separated by a period (.).\n",
    "from typing import Dict, Any\n",
    "\n",
    "def flatten_dictionary(input_dict: Dict[str, Any], base_key: str = '', delimiter: str = '.') -> Dict[str, Any]:\n",
    "    result_dict = {}\n",
    "    for current_key, current_value in input_dict.items():\n",
    "        new_key = base_key + delimiter + current_key if base_key else current_key\n",
    "        if isinstance(current_value, dict):\n",
    "            result_dict.update(flatten_dictionary(current_value, new_key, delimiter=delimiter))\n",
    "        else:\n",
    "            result_dict[new_key] = current_value\n",
    "    \n",
    "    return result_dict\n",
    "nested_dict = {\n",
    "    \"user\": {\n",
    "        \"id\": 1,\n",
    "        \"details\": {\n",
    "            \"name\": \"Alice\",\n",
    "            \"address\": {\n",
    "                \"city\": \"New York\",\n",
    "                \"zipcode\": 10001\n",
    "            }\n",
    "        }\n",
    "    }\n",
    "}\n",
    "\n",
    "flattened_output = flatten_dictionary(nested_dict)\n",
    "print(flattened_output)\n"
   ]
  },
  {
   "cell_type": "code",
   "execution_count": 7,
   "id": "5512d13a-579f-4048-adb3-e38ca29197c5",
   "metadata": {},
   "outputs": [
    {
     "name": "stdout",
     "output_type": "stream",
     "text": [
      "['apple', 'banana']\n"
     ]
    }
   ],
   "source": [
    "#6) You are given a list of words, and you need to find the top N most frequent words. Write a Python function top_n_frequent_words(words: List[str], n: int) -> List[str] that returns a list of the top N frequent words.\n",
    "# The result should be sorted by frequency, and if two words have the same frequency, they should be sorted lexicographically.\n",
    "from collections import Counter\n",
    "from typing import List\n",
    "\n",
    "def top_n_frequent_words(words: List[str], n: int) -> List[str]:\n",
    "    word_count = Counter(words)\n",
    "    sorted_words = sorted(word_count.items(), key=lambda x: (-x[1], x[0]))\n",
    "    return [word for word, count in sorted_words[:n]]\n",
    "words = [\"apple\", \"banana\", \"apple\", \"orange\", \"banana\", \"apple\"]\n",
    "n = 2\n",
    "print(top_n_frequent_words(words, n))"
   ]
  },
  {
   "cell_type": "code",
   "execution_count": 9,
   "id": "a8c6acb9-bf73-4f2c-aa44-157fc7d94e37",
   "metadata": {},
   "outputs": [
    {
     "name": "stdout",
     "output_type": "stream",
     "text": [
      "[{'id': 1, 'name': 'Alice', 'department_id': 2, 'department_name': 'Marketing'}, {'id': 2, 'name': 'Bob', 'department_id': 1, 'department_name': 'Engineering'}]\n"
     ]
    }
   ],
   "source": [
    "#7) \n",
    "'''You are given two lists of dictionaries, employees and departments, which represent two tables in a relational database.\n",
    "Each employee has a department_id that links them to a department. \n",
    "Write a Python function merge_data(employees: List[Dict[str, Union[str, int]]], departments: List[Dict[str, str]]) -> List[Dict[str, Union[str, int]]] \n",
    "that merges the two datasets into one, adding the department_name to each employee's data.'''\n",
    "\n",
    "from typing import List, Dict, Union\n",
    "\n",
    "def merge_data(employees: List[Dict[str, Union[str, int]]], departments: List[Dict[str, str]]) -> List[Dict[str, Union[str, int]]]:\n",
    "    department_map = {dept['id']: dept['department_name'] for dept in departments}\n",
    "    for emp in employees:\n",
    "        emp['department_name'] = department_map.get(emp['department_id'], \"Unknown\")\n",
    "    return employees\n",
    "    \n",
    "employees = [\n",
    "    {\"id\": 1, \"name\": \"Alice\", \"department_id\": 2},\n",
    "    {\"id\": 2, \"name\": \"Bob\", \"department_id\": 1}\n",
    "]\n",
    "departments = [\n",
    "    {\"id\": 1, \"department_name\": \"Engineering\"},\n",
    "    {\"id\": 2, \"department_name\": \"Marketing\"}\n",
    "]\n",
    "\n",
    "merged_data = merge_data(employees, departments)\n",
    "print(merged_data)"
   ]
  },
  {
   "cell_type": "code",
   "execution_count": 10,
   "id": "a464611f-8bad-4905-829e-f7e9e1011242",
   "metadata": {},
   "outputs": [
    {
     "name": "stdout",
     "output_type": "stream",
     "text": [
      "10.0\n",
      "15.0\n",
      "20.0\n",
      "30.0\n"
     ]
    }
   ],
   "source": [
    "'''8) Write a class MovingAverage that computes the moving average of the last k values from a data stream. \n",
    " The class should implement two methods:\n",
    " __init__(self, k: int) initializes the moving average with the window size k.\n",
    " next(self, val: int) -> float returns the moving average of the last k values'''\n",
    "\n",
    "class MovingAverage:\n",
    "    def __init__(self, k: int):\n",
    "        self.k = k\n",
    "        self.window = []  \n",
    "    def next(self, val: int) -> float:\n",
    "        self.window.append(val)\n",
    "        if len(self.window) > self.k:\n",
    "            self.window = self.window[-self.k:]  \n",
    "        return sum(self.window) / len(self.window)\n",
    "\n",
    "ma = MovingAverage(3)\n",
    "print(ma.next(10))  \n",
    "print(ma.next(20))  \n",
    "print(ma.next(30))  \n",
    "print(ma.next(40))  "
   ]
  },
  {
   "cell_type": "code",
   "execution_count": 11,
   "id": "e1d297b6-6dcf-4bc4-8b87-0d2e1bd5d785",
   "metadata": {},
   "outputs": [
    {
     "name": "stdout",
     "output_type": "stream",
     "text": [
      "[{'name': 'Alice', 'age': 25, 'city': 'New York'}, {'name': 'Bob', 'age': 30, 'city': 'San Francisco'}]\n"
     ]
    }
   ],
   "source": [
    "#9  JSON Field Renaming\n",
    "#You are given a list of dictionaries representing JSON objects, where each dictionary has fields name, age, and location. \n",
    "# Your task is to write a Python function rename_fields(data: List[Dict[str, Union[str, int]]]) -> List[Dict[str, Union[str, int]]] \n",
    "#that renames the field location to city for each dictionary in the list.\n",
    "\n",
    "from typing import List, Dict, Union\n",
    "def rename_fields(data: List[Dict[str, Union[str, int]]]) -> List[Dict[str, Union[str, int]]]:\n",
    "    for item in data:\n",
    "        if 'location' in item:\n",
    "            item['city'] = item.pop('location')\n",
    "    return data\n",
    "data = [\n",
    "    {\"name\": \"Alice\", \"age\": 25, \"location\": \"New York\"},\n",
    "    {\"name\": \"Bob\", \"age\": 30, \"location\": \"San Francisco\"}\n",
    "]\n",
    "print(rename_fields(data))"
   ]
  },
  {
   "cell_type": "code",
   "execution_count": 12,
   "id": "59ba2171-53ef-41c0-b880-21fbeccf46d2",
   "metadata": {},
   "outputs": [
    {
     "name": "stdout",
     "output_type": "stream",
     "text": [
      "['2024-12-31', '2024-01-01']\n"
     ]
    }
   ],
   "source": [
    "#10. Question: Reformat Date Strings\n",
    "# You are given a list of date strings in the format \"DD-MM-YYYY\". Write a Python function reformat_dates(dates: List[str]) -> List[str] \n",
    "# that reformats each date into the format \"YYYY-MM-DD\".\n",
    "from typing import List\n",
    "\n",
    "def reformat_dates(dates: List[str]) -> List[str]:\n",
    "    return ['-'.join(date.split('-')[::-1]) for date in dates]\n",
    "\n",
    "dates = [\"31-12-2024\", \"01-01-2024\"]\n",
    "print(reformat_dates(dates))"
   ]
  },
  {
   "cell_type": "code",
   "execution_count": null,
   "id": "68c5a1ec-746b-4759-91d8-209ee6ab2817",
   "metadata": {},
   "outputs": [],
   "source": []
  }
 ],
 "metadata": {
  "kernelspec": {
   "display_name": "Python 3 (ipykernel)",
   "language": "python",
   "name": "python3"
  },
  "language_info": {
   "codemirror_mode": {
    "name": "ipython",
    "version": 3
   },
   "file_extension": ".py",
   "mimetype": "text/x-python",
   "name": "python",
   "nbconvert_exporter": "python",
   "pygments_lexer": "ipython3",
   "version": "3.10.1"
  }
 },
 "nbformat": 4,
 "nbformat_minor": 5
}
